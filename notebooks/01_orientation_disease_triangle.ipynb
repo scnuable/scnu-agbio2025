{
 "cells": [
  {
   "cell_type": "markdown",
   "id": "39db9f15",
   "metadata": {},
   "source": [
    "# 1주차 — 오리엔테이션과 병해 삼각형\n"
   ]
  },
  {
   "cell_type": "markdown",
   "id": "6a03d17e",
   "metadata": {},
   "source": [
    "## 학습 목표\n",
    "- 기후변화가 병원체·숙주·환경 상호작용에 미치는 영향 개관\n",
    "- 실습 환경 세팅 및 데이터 미리보기"
   ]
  },
  {
   "cell_type": "code",
   "execution_count": null,
   "id": "da0662cc",
   "metadata": {},
   "outputs": [],
   "source": [
    "\n",
    "# 환경 세팅 및 데이터 확인\n",
    "import pandas as pd, numpy as np, matplotlib.pyplot as plt\n",
    "from pathlib import Path\n",
    "import sys\n",
    "sys.path.append(str(Path(\"..\") / \"utils\"))\n",
    "from utils import growing_degree_days\n",
    "\n",
    "weather = pd.read_csv(str(Path(\"..\")/\"data\"/\"sample_weather_2022.csv\"))\n",
    "weather['date'] = pd.to_datetime(weather['date'])\n",
    "\n",
    "# 누적 생육도(GDD) 계산 (base=10°C)\n",
    "weather['gdd'] = growing_degree_days(weather['tmean_c'], base=10.0)\n",
    "weather['gdd_cum'] = weather['gdd'].cumsum()\n",
    "\n",
    "# 시계열 확인 (색상 지정 없음, 규정 준수)\n",
    "plt.figure(figsize=(10,4))\n",
    "plt.plot(weather['date'], weather['gdd_cum'])\n",
    "plt.title(\"누적 생육도(GDD) — 2022\")\n",
    "plt.xlabel(\"날짜\"); plt.ylabel(\"GDD 누적\")\n",
    "plt.tight_layout()\n",
    "plt.show()\n"
   ]
  },
  {
   "cell_type": "markdown",
   "id": "cdb4c102",
   "metadata": {},
   "source": [
    "### TODO\n",
    "- 개인/팀 주제 후보 작물·병해 정하기\n",
    "- 기사/보고 수집 범위 설정(A1 참고)"
   ]
  }
 ],
 "metadata": {},
 "nbformat": 4,
 "nbformat_minor": 5
}
