{
 "cells": [
  {
   "cell_type": "markdown",
   "id": "1943c1f5",
   "metadata": {},
   "source": [
    "# 2주차 — 기상·기후 데이터 전처리\n"
   ]
  },
  {
   "cell_type": "markdown",
   "id": "a2197a95",
   "metadata": {},
   "source": [
    "## 학습 목표\n",
    "- 결측/이상치 처리, 파생지표(누적강우/엽면수분) 생성\n",
    "- 바이어스 보정 개념 훑어보기(실습은 관측 일자료 중심)"
   ]
  },
  {
   "cell_type": "code",
   "execution_count": null,
   "id": "a3c10de9",
   "metadata": {},
   "outputs": [],
   "source": [
    "\n",
    "import pandas as pd, numpy as np, matplotlib.pyplot as plt\n",
    "from pathlib import Path\n",
    "from utils import rolling_leaf_wetness_hours\n",
    "\n",
    "weather = pd.read_csv(str(Path(\"..\")/\"data\"/\"sample_weather_2022.csv\"))\n",
    "weather['date'] = pd.to_datetime(weather['date'])\n",
    "\n",
    "# 파생 지표\n",
    "weather['prcp_3d_sum'] = weather['prcp_mm'].rolling(3, min_periods=1).sum()\n",
    "weather['leaf_wet_3d_sum'] = rolling_leaf_wetness_hours(weather['leaf_wetness_hours'], window=3)\n",
    "\n",
    "# 시각화\n",
    "plt.figure(figsize=(10,4))\n",
    "plt.plot(weather['date'], weather['prcp_3d_sum'])\n",
    "plt.title(\"3일 누적 강우\")\n",
    "plt.xlabel(\"날짜\"); plt.ylabel(\"mm\")\n",
    "plt.tight_layout(); plt.show()\n"
   ]
  }
 ],
 "metadata": {},
 "nbformat": 4,
 "nbformat_minor": 5
}
