{
 "cells": [
  {
   "cell_type": "markdown",
   "id": "414f9d92",
   "metadata": {},
   "source": [
    "# 3주차 — 병역학 규칙 기반 경보\n"
   ]
  },
  {
   "cell_type": "markdown",
   "id": "27dfc2c2",
   "metadata": {},
   "source": [
    "## 학습 목표\n",
    "- 임계치 규칙 설계와 성능 기초 평가"
   ]
  },
  {
   "cell_type": "code",
   "execution_count": null,
   "id": "43b38a56",
   "metadata": {},
   "outputs": [],
   "source": [
    "\n",
    "import pandas as pd, numpy as np, matplotlib.pyplot as plt\n",
    "from pathlib import Path\n",
    "from utils import risk_index_rulebased\n",
    "\n",
    "weather = pd.read_csv(str(Path(\"..\")/\"data\"/\"sample_weather_2022.csv\"))\n",
    "weather['date'] = pd.to_datetime(weather['date'])\n",
    "\n",
    "# 규칙 기반 경보(토이)\n",
    "risk = weather.apply(risk_index_rulebased, axis=1)\n",
    "weather['risk_index'] = risk\n",
    "\n",
    "# 이동합으로 연속 위험일수 개념\n",
    "weather['risk_7d_sum'] = weather['risk_index'].rolling(7, min_periods=1).sum()\n",
    "\n",
    "plt.figure(figsize=(10,4))\n",
    "plt.plot(weather['date'], weather['risk_7d_sum'])\n",
    "plt.title(\"7일 위험일수 합\")\n",
    "plt.xlabel(\"날짜\"); plt.ylabel(\"days\")\n",
    "plt.tight_layout(); plt.show()\n"
   ]
  }
 ],
 "metadata": {},
 "nbformat": 4,
 "nbformat_minor": 5
}
