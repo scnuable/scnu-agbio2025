{
 "cells": [
  {
   "cell_type": "markdown",
   "id": "414f9d92",
   "metadata": {},
   "source": [
    "# 3주차 — 병역학 규칙 기반 경보\n"
   ]
  },
  {
   "cell_type": "markdown",
   "id": "27dfc2c2",
   "metadata": {},
   "source": [
    "## 학습 목표\n",
    "- 임계치 규칙 설계와 성능 기초 평가"
   ]
  },
  {
   "cell_type": "code",
   "execution_count": null,
   "id": "43b38a56",
   "metadata": {},
   "outputs": [],
   "source": [
    "import sys\n",
    "import pandas as pd, numpy as np, matplotlib as mpl, matplotlib.pyplot as plt\n",
    "from pathlib import Path\n",
    "from matplotlib import font_manager\n",
    "\n",
    "# ✅ 1) 한글 폰트 설정 (없으면 영어로 fallback)\n",
    "candidates = [\n",
    "    \"Malgun Gothic\",            # Windows 기본\n",
    "    \"NanumGothic\", \"Nanum Gothic\",\n",
    "    \"Noto Sans CJK KR\", \"Noto Sans KR\",\n",
    "    \"AppleGothic\",\n",
    "    \"UnDotum\", \"Batang\", \"Gulim\"\n",
    "]\n",
    "installed = {f.name for f in font_manager.fontManager.ttflist}\n",
    "choice = next((c for c in candidates if c in installed), None)\n",
    "\n",
    "if choice:\n",
    "    mpl.rcParams[\"font.family\"] = choice\n",
    "    print(\"✔ Matplotlib 글꼴:\", choice)\n",
    "else:\n",
    "    print(\"⚠ 한글 폰트 미탑재 → 제목/레이블은 영어로 대체 권장\")\n",
    "\n",
    "mpl.rcParams[\"axes.unicode_minus\"] = False  # 마이너스 기호 깨짐 방지\n",
    "\n",
    "# ✅ 2) utils 경로 추가 & 함수 임포트\n",
    "UTILS_DIR = Path(\"..\") / \"utils\"\n",
    "if not UTILS_DIR.exists():\n",
    "    # 노트북 실행 위치가 다를 수 있으니 대안 경로도 탐색\n",
    "    alt = Path.cwd().resolve()\n",
    "    tried = [UTILS_DIR, alt / \"utils\", alt.parent / \"utils\"]\n",
    "    print(\"utils 탐색:\", [str(p) for p in tried])\n",
    "    for p in tried:\n",
    "        if (p / \"utils.py\").exists():\n",
    "            UTILS_DIR = p\n",
    "            break\n",
    "sys.path.append(str(UTILS_DIR))\n",
    "from utils import risk_index_rulebased\n",
    "\n",
    "weather = pd.read_csv(str(Path(\"..\")/\"data\"/\"sample_weather_2022.csv\"))\n",
    "weather['date'] = pd.to_datetime(weather['date'])\n",
    "\n",
    "# 규칙 기반 경보(토이)\n",
    "risk = weather.apply(risk_index_rulebased, axis=1)\n",
    "weather['risk_index'] = risk\n",
    "\n",
    "# 이동합으로 연속 위험일수 개념\n",
    "weather['risk_7d_sum'] = weather['risk_index'].rolling(7, min_periods=1).sum()\n",
    "\n",
    "plt.figure(figsize=(10,4))\n",
    "plt.plot(weather['date'], weather['risk_7d_sum'])\n",
    "plt.title(\"7일 위험일수 합\")\n",
    "plt.xlabel(\"날짜\"); plt.ylabel(\"days\")\n",
    "plt.tight_layout(); plt.show()"
   ]
  }
 ],
 "metadata": {
  "language_info": {
   "name": "python"
  }
 },
 "nbformat": 4,
 "nbformat_minor": 5
}
