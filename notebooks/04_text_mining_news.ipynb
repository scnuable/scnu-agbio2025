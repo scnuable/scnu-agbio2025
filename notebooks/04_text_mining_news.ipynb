{
 "cells": [
  {
   "cell_type": "markdown",
   "id": "5affae6a",
   "metadata": {},
   "source": [
    "# 4주차 — 뉴스·보고서 텍스트 마이닝\n"
   ]
  },
  {
   "cell_type": "markdown",
   "id": "cd7e0d23",
   "metadata": {},
   "source": [
    "## 학습 목표\n",
    "- 키워드 사전, 간단한 문장 시그널 산출, 지명 정규화(기본형)"
   ]
  },
  {
   "cell_type": "code",
   "execution_count": null,
   "id": "187b1111",
   "metadata": {},
   "outputs": [],
   "source": [
    "\n",
    "import pandas as pd, re, numpy as np\n",
    "from pathlib import Path\n",
    "\n",
    "news = pd.read_csv(str(Path(\"..\")/\"data\"/\"news_samples_labeled.csv\"))\n",
    "\n",
    "keywords = [\"lesion\", \"mildew\", \"spot\", \"outbreak\", \"infection\", \"powdery\", \"anthracnose\", \"blast\"]\n",
    "def sentence_signal(s):\n",
    "    s = str(s).lower()\n",
    "    return int(any(k in s for k in keywords))\n",
    "\n",
    "news['signal_pred'] = news['text'].apply(sentence_signal)\n",
    "\n",
    "# 간단 성능 지표\n",
    "if 'label_signal' in news.columns:\n",
    "    tp = ((news['signal_pred']==1)&(news['label_signal']==1)).sum()\n",
    "    fp = ((news['signal_pred']==1)&(news['label_signal']==0)).sum()\n",
    "    fn = ((news['signal_pred']==0)&(news['label_signal']==1)).sum()\n",
    "    precision = tp/(tp+fp) if (tp+fp)>0 else np.nan\n",
    "    recall = tp/(tp+fn) if (tp+fn)>0 else np.nan\n",
    "    print(\"Precision:\", precision, \"Recall:\", recall)\n",
    "\n",
    "news.head()\n"
   ]
  }
 ],
 "metadata": {},
 "nbformat": 4,
 "nbformat_minor": 5
}
