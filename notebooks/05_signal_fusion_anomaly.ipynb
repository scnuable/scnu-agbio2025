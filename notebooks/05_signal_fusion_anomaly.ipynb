{
 "cells": [
  {
   "cell_type": "markdown",
   "id": "a093d469",
   "metadata": {},
   "source": [
    "# 5주차 — 시그널 융합과 이상징후 탐지\n"
   ]
  },
  {
   "cell_type": "markdown",
   "id": "0aaa57ad",
   "metadata": {},
   "source": [
    "## 학습 목표\n",
    "- 텍스트 시그널 + 기상 위험지표 결합, 이동창 z-score 기반 이상 탐지"
   ]
  },
  {
   "cell_type": "code",
   "execution_count": null,
   "id": "e2ab28f3",
   "metadata": {},
   "outputs": [],
   "source": [
    "\n",
    "import pandas as pd, numpy as np, matplotlib.pyplot as plt\n",
    "from pathlib import Path\n",
    "from utils import zscore, risk_index_rulebased\n",
    "\n",
    "weather = pd.read_csv(str(Path(\"..\")/\"data\"/\"sample_weather_2022.csv\"))\n",
    "weather['date'] = pd.to_datetime(weather['date'])\n",
    "weather['risk'] = weather.apply(risk_index_rulebased, axis=1)\n",
    "weather['risk_7d'] = weather['risk'].rolling(7, min_periods=1).sum()\n",
    "\n",
    "news = pd.read_csv(str(Path(\"..\")/\"data\"/\"news_samples_labeled.csv\"))\n",
    "# 주 단위 시그널(간단 집계)\n",
    "news_daily = news.groupby('date', as_index=False)['label_signal'].mean().rename(columns={'label_signal':'news_signal'})\n",
    "news_daily['date'] = pd.to_datetime(news_daily['date'])\n",
    "\n",
    "df = pd.merge(weather[['date','risk_7d']], news_daily, on='date', how='left').fillna(0.0)\n",
    "df['fusion'] = zscore(df['risk_7d']) + zscore(df['news_signal'])\n",
    "\n",
    "plt.figure(figsize=(10,4))\n",
    "plt.plot(df['date'], df['fusion'])\n",
    "plt.title(\"융합 조기경보 지수 (표준화 합)\")\n",
    "plt.xlabel(\"날짜\"); plt.ylabel(\"지수\")\n",
    "plt.tight_layout(); plt.show()\n"
   ]
  }
 ],
 "metadata": {},
 "nbformat": 4,
 "nbformat_minor": 5
}
