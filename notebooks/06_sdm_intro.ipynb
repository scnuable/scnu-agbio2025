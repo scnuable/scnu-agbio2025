{
 "cells": [
  {
   "cell_type": "markdown",
   "id": "a11ae2d1",
   "metadata": {},
   "source": [
    "# 6주차 — 종분포모형(SDM) 입문\n"
   ]
  },
  {
   "cell_type": "markdown",
   "id": "8f83868d",
   "metadata": {},
   "source": [
    "## 학습 목표\n",
    "- 로지스틱 회귀로 SDM 개념 체험(토이 데이터)"
   ]
  },
  {
   "cell_type": "code",
   "execution_count": null,
   "id": "ee4091f9",
   "metadata": {},
   "outputs": [],
   "source": [
    "\n",
    "import pandas as pd, numpy as np, matplotlib.pyplot as plt\n",
    "from pathlib import Path\n",
    "from sklearn.linear_model import LogisticRegression\n",
    "from sklearn.metrics import roc_auc_score\n",
    "\n",
    "sdm = pd.read_csv(str(Path(\"..\")/\"data\"/\"occurrences_sdm_toy.csv\"))\n",
    "X = sdm[['bio1','bio12']].values\n",
    "y = sdm['presence'].values\n",
    "clf = LogisticRegression()\n",
    "clf.fit(X,y)\n",
    "pred = clf.predict_proba(X)[:,1]\n",
    "auc = roc_auc_score(y, pred)\n",
    "print(\"AUC:\", auc)\n",
    "\n",
    "# 간단 산점도로 경향 확인\n",
    "plt.figure(figsize=(6,5))\n",
    "plt.scatter(sdm['bio1'], sdm['bio12'], c=pred)\n",
    "plt.xlabel(\"bio1 (°C)\"); plt.ylabel(\"bio12 (mm)\")\n",
    "plt.title(\"SDM toy — predicted suitability\")\n",
    "plt.tight_layout(); plt.show()\n"
   ]
  }
 ],
 "metadata": {},
 "nbformat": 4,
 "nbformat_minor": 5
}
