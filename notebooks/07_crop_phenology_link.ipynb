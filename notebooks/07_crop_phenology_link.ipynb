{
 "cells": [
  {
   "cell_type": "markdown",
   "id": "db25f5e2",
   "metadata": {},
   "source": [
    "# 7주차 — 작물 생육단계와 경보 연동\n"
   ]
  },
  {
   "cell_type": "markdown",
   "id": "f6a9df76",
   "metadata": {},
   "source": [
    "## 학습 목표\n",
    "- 누적생육도로 민감기(예: 출수기 전후) 추정 및 경보 임계치 조정"
   ]
  },
  {
   "cell_type": "code",
   "execution_count": null,
   "id": "b41a2769",
   "metadata": {},
   "outputs": [],
   "source": [
    "\n",
    "import pandas as pd, numpy as np, matplotlib.pyplot as plt\n",
    "from pathlib import Path\n",
    "from utils import growing_degree_days\n",
    "\n",
    "weather = pd.read_csv(str(Path(\"..\")/\"data\"/\"sample_weather_2022.csv\"))\n",
    "weather['date'] = pd.to_datetime(weather['date'])\n",
    "\n",
    "base = 10.0\n",
    "weather['gdd'] = growing_degree_days(weather['tmean_c'], base=base)\n",
    "weather['gdd_cum'] = weather['gdd'].cumsum()\n",
    "\n",
    "# 임의 민감기: GDD 800~1100 사이\n",
    "sens = (weather['gdd_cum'].between(800, 1100)).astype(int)\n",
    "\n",
    "plt.figure(figsize=(10,4))\n",
    "plt.plot(weather['date'], weather['gdd_cum'])\n",
    "plt.title(\"누적 GDD와 민감기 표시(800~1100)\")\n",
    "plt.xlabel(\"날짜\"); plt.ylabel(\"누적 GDD\")\n",
    "plt.tight_layout(); plt.show()\n",
    "\n",
    "weather.assign(sensitive=sens).head()\n"
   ]
  }
 ],
 "metadata": {},
 "nbformat": 4,
 "nbformat_minor": 5
}
