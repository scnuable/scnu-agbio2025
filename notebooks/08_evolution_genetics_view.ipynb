{
 "cells": [
  {
   "cell_type": "markdown",
   "id": "691e95ec",
   "metadata": {},
   "source": [
    "# 8주차 — 진화·유전학 관점(개념 시연)\n"
   ]
  },
  {
   "cell_type": "markdown",
   "id": "259b6019",
   "metadata": {},
   "source": [
    "## 학습 목표\n",
    "- 소형 유전형 데이터로 PCA 개념 시연"
   ]
  },
  {
   "cell_type": "code",
   "execution_count": null,
   "id": "a67cc471",
   "metadata": {},
   "outputs": [],
   "source": [
    "\n",
    "import pandas as pd, numpy as np, matplotlib.pyplot as plt\n",
    "from pathlib import Path\n",
    "from sklearn.decomposition import PCA\n",
    "\n",
    "geno = pd.read_csv(str(Path(\"..\")/\"data\"/\"toy_genotypes_snv.csv\"), index_col=0)\n",
    "X = geno.values\n",
    "pca = PCA(n_components=2)\n",
    "pcs = pca.fit_transform(X)\n",
    "\n",
    "plt.figure(figsize=(6,5))\n",
    "plt.scatter(pcs[:,0], pcs[:,1])\n",
    "plt.xlabel(\"PC1\"); plt.ylabel(\"PC2\"); plt.title(\"PCA (toy genotypes)\")\n",
    "plt.tight_layout(); plt.show()\n"
   ]
  }
 ],
 "metadata": {},
 "nbformat": 4,
 "nbformat_minor": 5
}
