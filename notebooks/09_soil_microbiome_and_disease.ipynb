{
 "cells": [
  {
   "cell_type": "markdown",
   "id": "5e087480",
   "metadata": {},
   "source": [
    "# 9주차 — 토양·미생물군집과 병 발생\n"
   ]
  },
  {
   "cell_type": "markdown",
   "id": "5dee6846",
   "metadata": {},
   "source": [
    "## 학습 목표\n",
    "- 토양 변수와 병 발생률의 상관/회귀 분석"
   ]
  },
  {
   "cell_type": "code",
   "execution_count": null,
   "id": "d1a50c1e",
   "metadata": {},
   "outputs": [],
   "source": [
    "\n",
    "import pandas as pd, numpy as np, matplotlib.pyplot as plt\n",
    "from pathlib import Path\n",
    "import statsmodels.api as sm\n",
    "\n",
    "df = pd.read_csv(str(Path(\"..\")/\"data\"/\"soil_meta_disease.csv\"))\n",
    "\n",
    "X = df[['soil_moisture_vwc','soil_temp_c','organic_matter_pct']]\n",
    "y = df['disease_incidence_pct']\n",
    "Xc = sm.add_constant(X)\n",
    "model = sm.OLS(y, Xc).fit()\n",
    "print(model.summary())\n",
    "\n",
    "plt.figure(figsize=(6,5))\n",
    "plt.scatter(df['soil_moisture_vwc'], df['disease_incidence_pct'])\n",
    "plt.xlabel(\"Soil moisture (VWC)\"); plt.ylabel(\"Disease incidence (%)\")\n",
    "plt.tight_layout(); plt.show()\n"
   ]
  }
 ],
 "metadata": {},
 "nbformat": 4,
 "nbformat_minor": 5
}
