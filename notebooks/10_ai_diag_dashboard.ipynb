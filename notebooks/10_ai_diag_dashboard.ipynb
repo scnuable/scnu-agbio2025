{
 "cells": [
  {
   "cell_type": "markdown",
   "id": "e57802d5",
   "metadata": {},
   "source": [
    "# 10주차 — AI 진단·예측과 대시보드 프로토타입\n"
   ]
  },
  {
   "cell_type": "markdown",
   "id": "1ea0daa0",
   "metadata": {},
   "source": [
    "## 학습 목표\n",
    "- 이미지 진단의 한계 이해, 간단 경보 대시보드 스케치(노트북 베이스)"
   ]
  },
  {
   "cell_type": "code",
   "execution_count": null,
   "id": "7e3ca51f",
   "metadata": {},
   "outputs": [],
   "source": [
    "\n",
    "# 간단한 대시보드 스케치(노트북 내 카드/차트 배치)\n",
    "import pandas as pd, numpy as np, matplotlib.pyplot as plt\n",
    "from pathlib import Path\n",
    "\n",
    "weather = pd.read_csv(str(Path(\"..\")/\"data\"/\"sample_weather_2022.csv\"))\n",
    "weather['date'] = pd.to_datetime(weather['date'])\n",
    "weather['risk'] = ((weather['tmean_c'].between(12,28)) & \n",
    "                   (weather['leaf_wetness_hours']>=6) & \n",
    "                   (weather['rh_percent']>=85)).astype(int)\n",
    "\n",
    "print(\"=== KPI ===\")\n",
    "print(\"연간 위험일수:\", weather['risk'].sum())\n",
    "print(\"최장 연속위험일수:\", weather['risk'].rolling(14, min_periods=1).sum().max())\n",
    "\n",
    "plt.figure(figsize=(10,4))\n",
    "plt.plot(weather['date'], weather['risk'].rolling(7, min_periods=1).sum())\n",
    "plt.title(\"7일 이동 위험일수(대시보드 예시 지표)\")\n",
    "plt.xlabel(\"날짜\"); plt.ylabel(\"days\")\n",
    "plt.tight_layout(); plt.show()\n"
   ]
  }
 ],
 "metadata": {},
 "nbformat": 4,
 "nbformat_minor": 5
}
