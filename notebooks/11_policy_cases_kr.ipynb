{
 "cells": [
  {
   "cell_type": "markdown",
   "id": "94cfa783",
   "metadata": {},
   "source": [
    "# 11주차 — 한국 사례와 정책·현장 적용\n"
   ]
  },
  {
   "cell_type": "markdown",
   "id": "70b29b81",
   "metadata": {},
   "source": [
    "## 작성 가이드(정책 브리프 초안)\n",
    "- 대상: (예) 도 시군 지자체, 농업기술원, 농협\n",
    "- 문제: 조기경보의 신뢰도·책임·커뮤니케이션 이슈\n",
    "- 대안: 경보 등급·불확실성 표기·재평가 주기\n",
    "- 비용-효익: 약제·노동·수확량 지표로 산출\n",
    "\n",
    "아래 셀은 비용-효익 계산 도구(토이)."
   ]
  },
  {
   "cell_type": "code",
   "execution_count": null,
   "id": "ba72dd8e",
   "metadata": {},
   "outputs": [],
   "source": [
    "\n",
    "from utils import cost_benefit\n",
    "# 예시: 발생률 20% 감소, 처리비용 100, 미처리 손실 800\n",
    "net = cost_benefit(incidence_reduction_pct=20, cost_treatment=100, expected_loss_without_treatment=800)\n",
    "print(\"순편익(예시):\", net)\n"
   ]
  }
 ],
 "metadata": {},
 "nbformat": 4,
 "nbformat_minor": 5
}
