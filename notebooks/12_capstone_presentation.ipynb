{
 "cells": [
  {
   "cell_type": "markdown",
   "id": "0fc20fed",
   "metadata": {},
   "source": [
    "# 12주차 — 캡스톤 발표 및 통합 실습\n"
   ]
  },
  {
   "cell_type": "markdown",
   "id": "fb7b88ea",
   "metadata": {},
   "source": [
    "## 발표 체크리스트\n",
    "- 문제정의·데이터·모델·평가·시연·한계/윤리\n",
    "- 재현성: 저장소 구조/README/환경파일 점검\n",
    "\n",
    "아래 셀은 간단한 평가 템플릿(정밀도/재현율)."
   ]
  },
  {
   "cell_type": "code",
   "execution_count": null,
   "id": "e497ac66",
   "metadata": {},
   "outputs": [],
   "source": [
    "\n",
    "import numpy as np\n",
    "# y_true, y_pred는 팀 결과로 대체\n",
    "y_true = np.array([0,1,1,0,1,0,1,0,1,0])\n",
    "y_pred = np.array([0,1,0,0,1,0,1,1,1,0])\n",
    "tp = ((y_true==1)&(y_pred==1)).sum()\n",
    "fp = ((y_true==0)&(y_pred==1)).sum()\n",
    "fn = ((y_true==1)&(y_pred==0)).sum()\n",
    "precision = tp/(tp+fp) if (tp+fp)>0 else float(\"nan\")\n",
    "recall = tp/(tp+fn) if (tp+fn)>0 else float(\"nan\")\n",
    "print(\"Precision:\", precision, \"Recall:\", recall)\n"
   ]
  }
 ],
 "metadata": {},
 "nbformat": 4,
 "nbformat_minor": 5
}
